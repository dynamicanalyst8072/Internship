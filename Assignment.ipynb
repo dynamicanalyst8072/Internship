{
 "cells": [
  {
   "cell_type": "code",
   "execution_count": 1,
   "id": "professional-spare",
   "metadata": {},
   "outputs": [],
   "source": [
    "#factorial of a number\n",
    "def fact(n):\n",
    "    multiply =1\n",
    "    for a in range(1,n+1):\n",
    "        multiply*=a\n",
    "    print(\"factorial of {} is {}\".format(n,multiply))"
   ]
  },
  {
   "cell_type": "code",
   "execution_count": 2,
   "id": "junior-leonard",
   "metadata": {},
   "outputs": [
    {
     "name": "stdout",
     "output_type": "stream",
     "text": [
      "factorial of 5 is 120\n"
     ]
    }
   ],
   "source": [
    "fact(5)"
   ]
  },
  {
   "cell_type": "code",
   "execution_count": 18,
   "id": "advisory-convergence",
   "metadata": {},
   "outputs": [],
   "source": [
    "#prime number\n",
    "import math\n",
    "def prime(n):\n",
    "    if(n==1):\n",
    "        return False\n",
    "    if(n==2):\n",
    "        return True\n",
    "    else:\n",
    "        for a in range(2,int(math.sqrt(n))+1):\n",
    "            if (n%a==0):\n",
    "                return False\n",
    "        return True"
   ]
  },
  {
   "cell_type": "code",
   "execution_count": 17,
   "id": "criminal-bowling",
   "metadata": {},
   "outputs": [
    {
     "name": "stdout",
     "output_type": "stream",
     "text": [
      "No is prime\n"
     ]
    }
   ],
   "source": [
    "n = 5\n",
    "if(prime(n)):\n",
    "    print(\"No is prime\")\n",
    "else:\n",
    "    print(\"No. is composite\")"
   ]
  },
  {
   "cell_type": "code",
   "execution_count": 21,
   "id": "elementary-optimization",
   "metadata": {},
   "outputs": [],
   "source": [
    "#palimdrome string\n",
    "def palindrome(string):\n",
    "    if(len(string)==0):\n",
    "        return True\n",
    "    else:\n",
    "        i=0\n",
    "        j=len(string)-1\n",
    "        while(i<=j):\n",
    "            if(string[i]!=string[j]):\n",
    "                return False\n",
    "            i+=1\n",
    "            j-=1\n",
    "        return True"
   ]
  },
  {
   "cell_type": "code",
   "execution_count": 24,
   "id": "nutritional-bridal",
   "metadata": {},
   "outputs": [
    {
     "data": {
      "text/plain": [
       "False"
      ]
     },
     "execution_count": 24,
     "metadata": {},
     "output_type": "execute_result"
    }
   ],
   "source": [
    "string = \"abdcba\"\n",
    "palindrome(string)"
   ]
  },
  {
   "cell_type": "code",
   "execution_count": 25,
   "id": "rubber-proposal",
   "metadata": {},
   "outputs": [],
   "source": [
    "#side of a traingle(Here we consider that base and height is given and we need to find hypotenuse)\n",
    "def side(a,b):\n",
    "    return math.sqrt(a**2+b**2)"
   ]
  },
  {
   "cell_type": "code",
   "execution_count": 27,
   "id": "secondary-injection",
   "metadata": {},
   "outputs": [
    {
     "data": {
      "text/plain": [
       "5.0"
      ]
     },
     "execution_count": 27,
     "metadata": {},
     "output_type": "execute_result"
    }
   ],
   "source": [
    "base =3\n",
    "height = 4\n",
    "side(base,height)"
   ]
  },
  {
   "cell_type": "code",
   "execution_count": 28,
   "id": "equivalent-aaron",
   "metadata": {},
   "outputs": [],
   "source": [
    "#frequency of characters in a string\n",
    "def frequency(string):\n",
    "    freq={}\n",
    "    for char in string:\n",
    "        if char not in freq:\n",
    "            freq[char]=1\n",
    "        else:\n",
    "            freq[char]+=1\n",
    "    return freq"
   ]
  },
  {
   "cell_type": "code",
   "execution_count": 29,
   "id": "arabic-chile",
   "metadata": {},
   "outputs": [
    {
     "data": {
      "text/plain": [
       "{'a': 2, 'r': 1, 'p': 1, 'n': 1}"
      ]
     },
     "execution_count": 29,
     "metadata": {},
     "output_type": "execute_result"
    }
   ],
   "source": [
    "string=\"arpan\"\n",
    "frequency(string)"
   ]
  },
  {
   "cell_type": "code",
   "execution_count": null,
   "id": "systematic-builder",
   "metadata": {},
   "outputs": [],
   "source": []
  }
 ],
 "metadata": {
  "kernelspec": {
   "display_name": "Python 3",
   "language": "python",
   "name": "python3"
  },
  "language_info": {
   "codemirror_mode": {
    "name": "ipython",
    "version": 3
   },
   "file_extension": ".py",
   "mimetype": "text/x-python",
   "name": "python",
   "nbconvert_exporter": "python",
   "pygments_lexer": "ipython3",
   "version": "3.8.5"
  }
 },
 "nbformat": 4,
 "nbformat_minor": 5
}
